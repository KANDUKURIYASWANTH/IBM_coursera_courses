{
    "cells": [
        {
            "metadata": {
                "collapsed": true
            },
            "cell_type": "markdown",
            "source": "# My Jupyter Notebook on IBM Watson Studio"
        },
        {
            "metadata": {},
            "cell_type": "markdown",
            "source": "### Introduction\n**Kandukuri Yaswanth**\n<br>Want to purse a career in software development"
        },
        {
            "metadata": {},
            "cell_type": "markdown",
            "source": "*I'm Interested in data science because of its vastness and practicality in its application and due to my own interest in analysing data*"
        },
        {
            "metadata": {},
            "cell_type": "markdown",
            "source": "### Data science languages\n<ul>\n    <li>Python</li>\n    <li>Julia</li>\n    <li>R</li>\n</ul>"
        },
        {
            "metadata": {},
            "cell_type": "markdown",
            "source": "### Data science libraries\n<ul>\n    <li>Scikit-learn</li>\n    <li>Tensorflow</li>\n    <li>Pytorch</li>\n</ul>"
        },
        {
            "metadata": {},
            "cell_type": "markdown",
            "source": "<title>Data science tools</title>\n<table>\n<tr>\n<th>Name</th>\n<th>Type</th>\n</tr>\n\n<tr>\n<td>Python</td>\n<td>Language</td>\n</tr>\n\n<tr>\n<td>Jupyter notebook</td>\n<td>Web based IDE</td>\n</tr>\n    \n<tr>\n<td>IBM watson studio</td>\n<td>Software plat form with collection of tools</td>\n</tr>\n</table>"
        },
        {
            "metadata": {},
            "cell_type": "markdown",
            "source": "### Arithmetic expression\nAddition -> a+b\n<br>Substraction -> a-b\n<br>Multiplication -> a x b\n<br>Division -> a/b\n<br>power -> a ** b"
        },
        {
            "metadata": {},
            "cell_type": "code",
            "source": "a = 5\nb=3\nprint(a+b)\nprint(a*b)",
            "execution_count": 2,
            "outputs": [
                {
                    "output_type": "stream",
                    "text": "8\n15\n",
                    "name": "stdout"
                }
            ]
        },
        {
            "metadata": {},
            "cell_type": "code",
            "source": "minutes = input()\nhours =  int(minutes)/60 \nprint(hours)",
            "execution_count": 11,
            "outputs": [
                {
                    "output_type": "stream",
                    "name": "stdout",
                    "text": "90\n1.5\n"
                }
            ]
        },
        {
            "metadata": {},
            "cell_type": "markdown",
            "source": "### Objectives\n<ul>\n    <li>To get acknowledged with the tools in data science</li>\n    <li>To have hands on experience on tools of data science</li>\n</ul>"
        },
        {
            "metadata": {},
            "cell_type": "markdown",
            "source": "### Author\n**Kandukuri Yaswanth**"
        },
        {
            "metadata": {},
            "cell_type": "markdown",
            "source": "### This code prints \"Welcome to data science world\""
        },
        {
            "metadata": {},
            "cell_type": "code",
            "source": "print(\"Welcome to data science world\")",
            "execution_count": 1,
            "outputs": [
                {
                    "output_type": "stream",
                    "text": "Welcome to data science world\n",
                    "name": "stdout"
                }
            ]
        }
    ],
    "metadata": {
        "kernelspec": {
            "name": "python3",
            "display_name": "Python 3.10",
            "language": "python"
        },
        "language_info": {
            "name": "python",
            "version": "3.10.9",
            "mimetype": "text/x-python",
            "codemirror_mode": {
                "name": "ipython",
                "version": 3
            },
            "pygments_lexer": "ipython3",
            "nbconvert_exporter": "python",
            "file_extension": ".py"
        }
    },
    "nbformat": 4,
    "nbformat_minor": 1
}